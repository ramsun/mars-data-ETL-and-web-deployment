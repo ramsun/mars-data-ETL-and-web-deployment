{
 "cells": [
  {
   "cell_type": "code",
   "execution_count": 1,
   "metadata": {},
   "outputs": [],
   "source": [
    "# Dependencies\n",
    "\n",
    "# Web scraping dependencies\n",
    "from bs4 import BeautifulSoup\n",
    "\n",
    "# Asynchronous scraping dependencies\n",
    "# Pausing to allow for page to load\n",
    "import time\n",
    "from selenium import webdriver\n",
    "\n",
    "# Asynchronous control (clicking, etc.)\n",
    "from splinter import Browser\n",
    "from splinter.exceptions import ElementDoesNotExist\n",
    "\n",
    "# Database deployment dependencies\n",
    "import pymongo"
   ]
  },
  {
   "cell_type": "markdown",
   "metadata": {},
   "source": [
    "# Scrape Latest News"
   ]
  },
  {
   "cell_type": "code",
   "execution_count": 2,
   "metadata": {},
   "outputs": [],
   "source": [
    "# Create soup object\n",
    "url = 'https://mars.nasa.gov/news/?page=0&per_page=40&order=publish_date+desc%2Ccreated_at+desc&search=&category=19%2C165%2C184%2C204&blank_scope=Latest'\n",
    "# Chromedriver set-up\n",
    "executable_path = {'executable_path': 'chromedriver.exe'}\n",
    "browser = webdriver.Chrome(**executable_path)\n",
    "browser.get(url)\n",
    "\n",
    "# 2 second time delay is so that the page can load and all information can be scraped\n",
    "time.sleep(2)\n",
    "\n",
    "# Scrape the html on the site after the timer is done\n",
    "html = browser.page_source\n",
    "soup = BeautifulSoup(html, 'html.parser')\n",
    "\n",
    "# find the first div class that contains news information \n",
    "# (this will be the latest news for the website)\n",
    "latest_news_class = soup.find(\"div\", class_ = \"list_text\")\n",
    "\n",
    "# close the browser\n",
    "browser.close()"
   ]
  },
  {
   "cell_type": "code",
   "execution_count": 3,
   "metadata": {},
   "outputs": [
    {
     "data": {
      "text/plain": [
       "['April 11, 2019',\n",
       " \"Curiosity Tastes First Sample in 'Clay-Bearing Unit'\",\n",
       " 'This new region on Mars might reveal more about the role of water on Mount Sharp.']"
      ]
     },
     "execution_count": 3,
     "metadata": {},
     "output_type": "execute_result"
    }
   ],
   "source": [
    "# Loop through returned results\n",
    "result_list = []\n",
    "for result in latest_news_class:\n",
    "    # Error handling\n",
    "    try:\n",
    "        # Identify and return title of listing\n",
    "        text_result = result.text\n",
    "        \n",
    "        # Print results only if title, price, and link are available\n",
    "        if (text_result):\n",
    "            result_list.append(text_result)\n",
    "    except AttributeError as e:\n",
    "        print(e)\n",
    "\n",
    "result_list"
   ]
  },
  {
   "cell_type": "markdown",
   "metadata": {},
   "source": [
    "# Scrape Image of the Day"
   ]
  },
  {
   "cell_type": "code",
   "execution_count": 18,
   "metadata": {},
   "outputs": [],
   "source": [
    "url2 = \"https://www.jpl.nasa.gov/spaceimages/?search=&category=Mars\"\n",
    "\n",
    "# Create browser object from Splinter library\n",
    "browser = Browser('chrome', **executable_path, headless=False)\n",
    "browser.visit(url2)\n",
    "\n",
    "# Click on the button that says FULL IMAGE to scrape the image\n",
    "browser.click_link_by_partial_text('FULL IMAGE')\n",
    "\n",
    "# Pause to let the browser load\n",
    "time.sleep(4)\n",
    "\n",
    "# Load html\n",
    "html = browser.html\n",
    "\n",
    "# Close the browser\n",
    "browser.quit()\n",
    "\n",
    "# Parse HTML with Beautiful Soup\n",
    "soup = BeautifulSoup(html, 'html.parser')\n",
    "link = soup.find(\"div\", class_ = \"fancybox-inner fancybox-skin fancybox-dark-skin fancybox-dark-skin-open\")"
   ]
  },
  {
   "cell_type": "code",
   "execution_count": 19,
   "metadata": {},
   "outputs": [
    {
     "data": {
      "text/plain": [
       "'https://www.jpl.nasa.gov/spaceimages/images/mediumsize/PIA19674_ip.jpg'"
      ]
     },
     "execution_count": 19,
     "metadata": {},
     "output_type": "execute_result"
    }
   ],
   "source": [
    "for result in link:\n",
    "    try:\n",
    "        partial_url = result.get('src')\n",
    "        if(partial_url):\n",
    "            featured_image_url = \"https://www.jpl.nasa.gov\" + partial_url\n",
    "    except AttributeError as e:\n",
    "        print(e)\n",
    "\n",
    "featured_image_url"
   ]
  },
  {
   "cell_type": "markdown",
   "metadata": {},
   "source": [
    "# Scrape latest mars weather tweet"
   ]
  },
  {
   "cell_type": "code",
   "execution_count": 32,
   "metadata": {},
   "outputs": [],
   "source": [
    "url3 = \"https://twitter.com/marswxreport?lang=en\"\n",
    "\n",
    "# Create browser object from Splinter library\n",
    "browser = Browser('chrome', **executable_path, headless=False)\n",
    "browser.visit(url3)\n",
    "\n",
    "# Pause to let the browser load\n",
    "time.sleep(4)\n",
    "\n",
    "# Load html\n",
    "html = browser.html\n",
    "\n",
    "# Close the browser\n",
    "browser.quit()\n",
    "\n",
    "# Parse HTML with Beautiful Soup\n",
    "soup = BeautifulSoup(html, 'html.parser')\n",
    "link = soup.find(\"div\", class_ = \"js-tweet-text-container\")"
   ]
  },
  {
   "cell_type": "code",
   "execution_count": 36,
   "metadata": {},
   "outputs": [
    {
     "name": "stdout",
     "output_type": "stream",
     "text": [
      "'NavigableString' object has no attribute 'text'\n",
      "'NavigableString' object has no attribute 'text'\n"
     ]
    },
    {
     "data": {
      "text/plain": [
       "'InSight sol 137 (2019-04-16) low -97.0ºC (-142.7ºF) high -15.9ºC (3.4ºF)\\nwinds from the SW at 4.3 m/s (9.7 mph) gusting to 12.4 m/s (27.7 mph)\\npressure at 7.30 hPapic.twitter.com/jhaMb7q9gy'"
      ]
     },
     "execution_count": 36,
     "metadata": {},
     "output_type": "execute_result"
    }
   ],
   "source": [
    "for result in link:\n",
    "    try:\n",
    "        tweet = result.text\n",
    "        if(tweet):\n",
    "            mars_weather = tweet\n",
    "    except AttributeError as e:\n",
    "        print(e)\n",
    "        \n",
    "mars_weather"
   ]
  },
  {
   "cell_type": "markdown",
   "metadata": {},
   "source": [
    "# Scrape mars data"
   ]
  },
  {
   "cell_type": "code",
   "execution_count": 43,
   "metadata": {},
   "outputs": [],
   "source": [
    "import pandas as pd\n",
    "url = \"https://space-facts.com/mars/\"\n",
    "tables = pd.read_html(url , encoding= \"utf-8\")\n",
    "mars_data_df = tables[0]"
   ]
  },
  {
   "cell_type": "code",
   "execution_count": 46,
   "metadata": {},
   "outputs": [
    {
     "data": {
      "text/html": [
       "<div>\n",
       "<style scoped>\n",
       "    .dataframe tbody tr th:only-of-type {\n",
       "        vertical-align: middle;\n",
       "    }\n",
       "\n",
       "    .dataframe tbody tr th {\n",
       "        vertical-align: top;\n",
       "    }\n",
       "\n",
       "    .dataframe thead th {\n",
       "        text-align: right;\n",
       "    }\n",
       "</style>\n",
       "<table border=\"1\" class=\"dataframe\">\n",
       "  <thead>\n",
       "    <tr style=\"text-align: right;\">\n",
       "      <th></th>\n",
       "      <th>Value</th>\n",
       "    </tr>\n",
       "    <tr>\n",
       "      <th>Description</th>\n",
       "      <th></th>\n",
       "    </tr>\n",
       "  </thead>\n",
       "  <tbody>\n",
       "    <tr>\n",
       "      <th>Equatorial Diameter:</th>\n",
       "      <td>6,792 km</td>\n",
       "    </tr>\n",
       "    <tr>\n",
       "      <th>Polar Diameter:</th>\n",
       "      <td>6,752 km</td>\n",
       "    </tr>\n",
       "    <tr>\n",
       "      <th>Mass:</th>\n",
       "      <td>6.42 x 10^23 kg (10.7% Earth)</td>\n",
       "    </tr>\n",
       "    <tr>\n",
       "      <th>Moons:</th>\n",
       "      <td>2 (Phobos &amp; Deimos)</td>\n",
       "    </tr>\n",
       "    <tr>\n",
       "      <th>Orbit Distance:</th>\n",
       "      <td>227,943,824 km (1.52 AU)</td>\n",
       "    </tr>\n",
       "    <tr>\n",
       "      <th>Orbit Period:</th>\n",
       "      <td>687 days (1.9 years)</td>\n",
       "    </tr>\n",
       "    <tr>\n",
       "      <th>Surface Temperature:</th>\n",
       "      <td>-153 to 20 °C</td>\n",
       "    </tr>\n",
       "    <tr>\n",
       "      <th>First Record:</th>\n",
       "      <td>2nd millennium BC</td>\n",
       "    </tr>\n",
       "    <tr>\n",
       "      <th>Recorded By:</th>\n",
       "      <td>Egyptian astronomers</td>\n",
       "    </tr>\n",
       "  </tbody>\n",
       "</table>\n",
       "</div>"
      ],
      "text/plain": [
       "                                              Value\n",
       "Description                                        \n",
       "Equatorial Diameter:                       6,792 km\n",
       "Polar Diameter:                            6,752 km\n",
       "Mass:                 6.42 x 10^23 kg (10.7% Earth)\n",
       "Moons:                          2 (Phobos & Deimos)\n",
       "Orbit Distance:            227,943,824 km (1.52 AU)\n",
       "Orbit Period:                  687 days (1.9 years)\n",
       "Surface Temperature:                  -153 to 20 °C\n",
       "First Record:                     2nd millennium BC\n",
       "Recorded By:                   Egyptian astronomers"
      ]
     },
     "execution_count": 46,
     "metadata": {},
     "output_type": "execute_result"
    }
   ],
   "source": [
    "mars_data_df.columns = ['Description','Value']\n",
    "mars_data_df.set_index('Description', inplace=True)\n",
    "\n",
    "mars_data_df\n",
    "\n",
    "# save the dataframe to an html file\n",
    "mars_data_df.to_html('table.html')"
   ]
  },
  {
   "cell_type": "markdown",
   "metadata": {},
   "source": [
    "# Scrape Hemisphere Images"
   ]
  },
  {
   "cell_type": "code",
   "execution_count": 57,
   "metadata": {},
   "outputs": [],
   "source": [
    "url4 = \"https://astrogeology.usgs.gov/search/results?q=hemisphere+enhanced&k1=target&v1=Mars\"\n",
    "\n",
    "#\n",
    "browser = Browser('chrome', **executable_path, headless=False)\n",
    "browser.visit(url4)\n",
    "browser.click_link_by_partial_text('Cerberus Hemisphere Enhanced')\n",
    "html = browser.html\n",
    "browser.quit()\n",
    "soup = BeautifulSoup(html, 'html.parser')\n",
    "\n",
    "#\n",
    "browser = Browser('chrome', **executable_path, headless=False)\n",
    "browser.visit(url4)\n",
    "browser.click_link_by_partial_text('Schiaparelli Hemisphere Enhanced')\n",
    "html = browser.html\n",
    "browser.quit()\n",
    "soup = BeautifulSoup(html, 'html.parser')\n",
    "\n",
    "#\n",
    "browser = Browser('chrome', **executable_path, headless=False)\n",
    "browser.visit(url4)\n",
    "browser.click_link_by_partial_text('Syrtis Major Hemisphere Enhanced')\n",
    "html = browser.html\n",
    "browser.quit()\n",
    "soup = BeautifulSoup(html, 'html.parser')\n",
    "\n",
    "#\n",
    "browser = Browser('chrome', **executable_path, headless=False)\n",
    "browser.visit(url4)\n",
    "browser.click_link_by_partial_text('Valles Marineris Hemisphere Enhanced')\n",
    "html = browser.html\n",
    "browser.quit()\n",
    "soup = BeautifulSoup(html, 'html.parser')"
   ]
  }
 ],
 "metadata": {
  "kernelspec": {
   "display_name": "Python 3",
   "language": "python",
   "name": "python3"
  },
  "language_info": {
   "codemirror_mode": {
    "name": "ipython",
    "version": 3
   },
   "file_extension": ".py",
   "mimetype": "text/x-python",
   "name": "python",
   "nbconvert_exporter": "python",
   "pygments_lexer": "ipython3",
   "version": "3.7.1"
  }
 },
 "nbformat": 4,
 "nbformat_minor": 2
}
